{
  "nbformat": 4,
  "nbformat_minor": 0,
  "metadata": {
    "colab": {
      "provenance": []
    },
    "kernelspec": {
      "name": "python3",
      "display_name": "Python 3"
    },
    "language_info": {
      "name": "python"
    }
  },
  "cells": [
    {
      "cell_type": "code",
      "execution_count": 1,
      "metadata": {
        "id": "b1hwvZR6AWNe"
      },
      "outputs": [],
      "source": [
        "import tensorflow as tf\n",
        "from tensorflow import keras"
      ]
    },
    {
      "cell_type": "code",
      "source": [
        "fashion_mnist = keras.datasets.fashion_mnist"
      ],
      "metadata": {
        "id": "0WBvIo3KAcWD"
      },
      "execution_count": 2,
      "outputs": []
    },
    {
      "cell_type": "code",
      "source": [
        "(X_train_full,y_train_full),(X_test,y_test) = fashion_mnist.load_data()"
      ],
      "metadata": {
        "colab": {
          "base_uri": "https://localhost:8080/"
        },
        "id": "tm1HQQKxBwg5",
        "outputId": "be99cb45-4096-457c-88ff-cff511059e1f"
      },
      "execution_count": 3,
      "outputs": [
        {
          "output_type": "stream",
          "name": "stdout",
          "text": [
            "Downloading data from https://storage.googleapis.com/tensorflow/tf-keras-datasets/train-labels-idx1-ubyte.gz\n",
            "\u001b[1m29515/29515\u001b[0m \u001b[32m━━━━━━━━━━━━━━━━━━━━\u001b[0m\u001b[37m\u001b[0m \u001b[1m0s\u001b[0m 0us/step\n",
            "Downloading data from https://storage.googleapis.com/tensorflow/tf-keras-datasets/train-images-idx3-ubyte.gz\n",
            "\u001b[1m26421880/26421880\u001b[0m \u001b[32m━━━━━━━━━━━━━━━━━━━━\u001b[0m\u001b[37m\u001b[0m \u001b[1m0s\u001b[0m 0us/step\n",
            "Downloading data from https://storage.googleapis.com/tensorflow/tf-keras-datasets/t10k-labels-idx1-ubyte.gz\n",
            "\u001b[1m5148/5148\u001b[0m \u001b[32m━━━━━━━━━━━━━━━━━━━━\u001b[0m\u001b[37m\u001b[0m \u001b[1m0s\u001b[0m 0us/step\n",
            "Downloading data from https://storage.googleapis.com/tensorflow/tf-keras-datasets/t10k-images-idx3-ubyte.gz\n",
            "\u001b[1m4422102/4422102\u001b[0m \u001b[32m━━━━━━━━━━━━━━━━━━━━\u001b[0m\u001b[37m\u001b[0m \u001b[1m0s\u001b[0m 0us/step\n"
          ]
        }
      ]
    },
    {
      "cell_type": "code",
      "source": [
        "X_train_full.shape"
      ],
      "metadata": {
        "colab": {
          "base_uri": "https://localhost:8080/"
        },
        "id": "2bcWF2XLB2V8",
        "outputId": "1e54e551-f698-4cb2-ccca-cb3dfbae9917"
      },
      "execution_count": 4,
      "outputs": [
        {
          "output_type": "execute_result",
          "data": {
            "text/plain": [
              "(60000, 28, 28)"
            ]
          },
          "metadata": {},
          "execution_count": 4
        }
      ]
    },
    {
      "cell_type": "markdown",
      "source": [
        "The images available here ranges from 0 to 255 pixels. Since we are about to train neural network it is important for us to scale down the images between 0 and 1\n",
        "We scale down neural network inputs for the following reasons:\n",
        "1. **Faster Convergence**: Gradient Descent optimizes the model by iteratively adjusting parameters based on gradients. If features are not scaled, larger values could lead to large gradient steps, causing the algorithm to overshoot the minimum, while smaller values may slow down convergence. Scaling ensures that all features contribute equally to the optimization process, speeding it up.\n",
        "2. **Numerical Stability**: Neural networks involve a lot of numerical computations. If input values are very large, it may result in numerical instability, like overflow or underflow, especially with certain activation functions. Scaling keeps the values within a manageable range.\n",
        "3. **Uniform Feature Influence**: Pixel intensities range from 0 to 255. By scaling them to the 0–1 range, you ensure that no particular feature (like a brighter pixel) disproportionately influences the model's weights, allowing the network to focus on relative patterns rather than absolute magnitudes.\n"
      ],
      "metadata": {
        "id": "vSQGa_-iDEzO"
      }
    },
    {
      "cell_type": "code",
      "source": [
        "#We will start by creating a validation set for our dataset\n",
        "X_valid, X_train = X_train_full[:5000]/255, X_train_full[5000:]/255\n",
        "y_valid, y_train = y_train_full[:5000], y_train_full[5000:]"
      ],
      "metadata": {
        "id": "sq_CJ8aGCLAW"
      },
      "execution_count": 5,
      "outputs": []
    },
    {
      "cell_type": "code",
      "source": [
        " class_names = [\"T-shirt/top\", \"Trouser\", \"Pullover\", \"Dress\", \"Coat\",\"Sandal\", \"Shirt\", \"Sneaker\", \"Bag\", \"Ankle boot\"]"
      ],
      "metadata": {
        "id": "gN3Az2HHCVR0"
      },
      "execution_count": 6,
      "outputs": []
    },
    {
      "cell_type": "code",
      "source": [
        "class_names[y_train[0]]"
      ],
      "metadata": {
        "colab": {
          "base_uri": "https://localhost:8080/",
          "height": 35
        },
        "id": "Jowy_luyFiIa",
        "outputId": "4f79a631-b488-4ef4-d786-c9d2248a1ea6"
      },
      "execution_count": 7,
      "outputs": [
        {
          "output_type": "execute_result",
          "data": {
            "text/plain": [
              "'Coat'"
            ],
            "application/vnd.google.colaboratory.intrinsic+json": {
              "type": "string"
            }
          },
          "metadata": {},
          "execution_count": 7
        }
      ]
    },
    {
      "cell_type": "markdown",
      "source": [
        "# Building a neural network\n"
      ],
      "metadata": {
        "id": "SrBdbvzXFug6"
      }
    },
    {
      "cell_type": "markdown",
      "source": [
        "A Sequential model is appropriate for a plain stack of layers where each layer has exactly one input tensor and one output tensor"
      ],
      "metadata": {
        "id": "PRpvx2GpG-BM"
      }
    },
    {
      "cell_type": "code",
      "source": [
        "model = keras.models.Sequential()\n",
        "model.add(keras.layers.Flatten(input_shape = [28,28]))\n",
        "model.add(keras.layers.Dense(300,activation = \"relu\"))\n",
        "model.add(keras.layers.Dense(100,activation = \"relu\"))\n",
        "model.add(keras.layers.Dense(10,activation = \"softmax\"))"
      ],
      "metadata": {
        "colab": {
          "base_uri": "https://localhost:8080/"
        },
        "id": "R2wYG903FnHe",
        "outputId": "77056011-4636-4bb6-c1c1-dc7d777a06be"
      },
      "execution_count": 8,
      "outputs": [
        {
          "output_type": "stream",
          "name": "stderr",
          "text": [
            "/usr/local/lib/python3.11/dist-packages/keras/src/layers/reshaping/flatten.py:37: UserWarning: Do not pass an `input_shape`/`input_dim` argument to a layer. When using Sequential models, prefer using an `Input(shape)` object as the first layer in the model instead.\n",
            "  super().__init__(**kwargs)\n"
          ]
        }
      ]
    },
    {
      "cell_type": "markdown",
      "source": [
        "Going through the code line by line:\n",
        "1. The first line creates a Sqauential model. It is the simplest kind of model for keras neural network that are composed of a single stack of layers connected sequentially.\n",
        "\n",
        "2. Next we build our first layer and add it to our model. It is a flatten layer whose role is to convert each input image into a 1D array: It recieves input X and computes X.reshape(-1,1)\n",
        "\n",
        "3. Next we add a dense layer of 300 neurons. It will use relu Activation function. Each dense layer manages its own weight matrix, containing all the connected weights between the neuron and their inputs. It also has a vector bias term(one per neuron)."
      ],
      "metadata": {
        "id": "0vevi82OIV7_"
      }
    },
    {
      "cell_type": "code",
      "source": [
        "model.summary()"
      ],
      "metadata": {
        "colab": {
          "base_uri": "https://localhost:8080/",
          "height": 268
        },
        "id": "DegiNPzDIFwE",
        "outputId": "f472e011-33de-42e3-c356-d4c048b4d92b"
      },
      "execution_count": 9,
      "outputs": [
        {
          "output_type": "display_data",
          "data": {
            "text/plain": [
              "\u001b[1mModel: \"sequential\"\u001b[0m\n"
            ],
            "text/html": [
              "<pre style=\"white-space:pre;overflow-x:auto;line-height:normal;font-family:Menlo,'DejaVu Sans Mono',consolas,'Courier New',monospace\"><span style=\"font-weight: bold\">Model: \"sequential\"</span>\n",
              "</pre>\n"
            ]
          },
          "metadata": {}
        },
        {
          "output_type": "display_data",
          "data": {
            "text/plain": [
              "┏━━━━━━━━━━━━━━━━━━━━━━━━━━━━━━━━━━━━━━┳━━━━━━━━━━━━━━━━━━━━━━━━━━━━━┳━━━━━━━━━━━━━━━━━┓\n",
              "┃\u001b[1m \u001b[0m\u001b[1mLayer (type)                        \u001b[0m\u001b[1m \u001b[0m┃\u001b[1m \u001b[0m\u001b[1mOutput Shape               \u001b[0m\u001b[1m \u001b[0m┃\u001b[1m \u001b[0m\u001b[1m        Param #\u001b[0m\u001b[1m \u001b[0m┃\n",
              "┡━━━━━━━━━━━━━━━━━━━━━━━━━━━━━━━━━━━━━━╇━━━━━━━━━━━━━━━━━━━━━━━━━━━━━╇━━━━━━━━━━━━━━━━━┩\n",
              "│ flatten (\u001b[38;5;33mFlatten\u001b[0m)                    │ (\u001b[38;5;45mNone\u001b[0m, \u001b[38;5;34m784\u001b[0m)                 │               \u001b[38;5;34m0\u001b[0m │\n",
              "├──────────────────────────────────────┼─────────────────────────────┼─────────────────┤\n",
              "│ dense (\u001b[38;5;33mDense\u001b[0m)                        │ (\u001b[38;5;45mNone\u001b[0m, \u001b[38;5;34m300\u001b[0m)                 │         \u001b[38;5;34m235,500\u001b[0m │\n",
              "├──────────────────────────────────────┼─────────────────────────────┼─────────────────┤\n",
              "│ dense_1 (\u001b[38;5;33mDense\u001b[0m)                      │ (\u001b[38;5;45mNone\u001b[0m, \u001b[38;5;34m100\u001b[0m)                 │          \u001b[38;5;34m30,100\u001b[0m │\n",
              "├──────────────────────────────────────┼─────────────────────────────┼─────────────────┤\n",
              "│ dense_2 (\u001b[38;5;33mDense\u001b[0m)                      │ (\u001b[38;5;45mNone\u001b[0m, \u001b[38;5;34m10\u001b[0m)                  │           \u001b[38;5;34m1,010\u001b[0m │\n",
              "└──────────────────────────────────────┴─────────────────────────────┴─────────────────┘\n"
            ],
            "text/html": [
              "<pre style=\"white-space:pre;overflow-x:auto;line-height:normal;font-family:Menlo,'DejaVu Sans Mono',consolas,'Courier New',monospace\">┏━━━━━━━━━━━━━━━━━━━━━━━━━━━━━━━━━━━━━━┳━━━━━━━━━━━━━━━━━━━━━━━━━━━━━┳━━━━━━━━━━━━━━━━━┓\n",
              "┃<span style=\"font-weight: bold\"> Layer (type)                         </span>┃<span style=\"font-weight: bold\"> Output Shape                </span>┃<span style=\"font-weight: bold\">         Param # </span>┃\n",
              "┡━━━━━━━━━━━━━━━━━━━━━━━━━━━━━━━━━━━━━━╇━━━━━━━━━━━━━━━━━━━━━━━━━━━━━╇━━━━━━━━━━━━━━━━━┩\n",
              "│ flatten (<span style=\"color: #0087ff; text-decoration-color: #0087ff\">Flatten</span>)                    │ (<span style=\"color: #00d7ff; text-decoration-color: #00d7ff\">None</span>, <span style=\"color: #00af00; text-decoration-color: #00af00\">784</span>)                 │               <span style=\"color: #00af00; text-decoration-color: #00af00\">0</span> │\n",
              "├──────────────────────────────────────┼─────────────────────────────┼─────────────────┤\n",
              "│ dense (<span style=\"color: #0087ff; text-decoration-color: #0087ff\">Dense</span>)                        │ (<span style=\"color: #00d7ff; text-decoration-color: #00d7ff\">None</span>, <span style=\"color: #00af00; text-decoration-color: #00af00\">300</span>)                 │         <span style=\"color: #00af00; text-decoration-color: #00af00\">235,500</span> │\n",
              "├──────────────────────────────────────┼─────────────────────────────┼─────────────────┤\n",
              "│ dense_1 (<span style=\"color: #0087ff; text-decoration-color: #0087ff\">Dense</span>)                      │ (<span style=\"color: #00d7ff; text-decoration-color: #00d7ff\">None</span>, <span style=\"color: #00af00; text-decoration-color: #00af00\">100</span>)                 │          <span style=\"color: #00af00; text-decoration-color: #00af00\">30,100</span> │\n",
              "├──────────────────────────────────────┼─────────────────────────────┼─────────────────┤\n",
              "│ dense_2 (<span style=\"color: #0087ff; text-decoration-color: #0087ff\">Dense</span>)                      │ (<span style=\"color: #00d7ff; text-decoration-color: #00d7ff\">None</span>, <span style=\"color: #00af00; text-decoration-color: #00af00\">10</span>)                  │           <span style=\"color: #00af00; text-decoration-color: #00af00\">1,010</span> │\n",
              "└──────────────────────────────────────┴─────────────────────────────┴─────────────────┘\n",
              "</pre>\n"
            ]
          },
          "metadata": {}
        },
        {
          "output_type": "display_data",
          "data": {
            "text/plain": [
              "\u001b[1m Total params: \u001b[0m\u001b[38;5;34m266,610\u001b[0m (1.02 MB)\n"
            ],
            "text/html": [
              "<pre style=\"white-space:pre;overflow-x:auto;line-height:normal;font-family:Menlo,'DejaVu Sans Mono',consolas,'Courier New',monospace\"><span style=\"font-weight: bold\"> Total params: </span><span style=\"color: #00af00; text-decoration-color: #00af00\">266,610</span> (1.02 MB)\n",
              "</pre>\n"
            ]
          },
          "metadata": {}
        },
        {
          "output_type": "display_data",
          "data": {
            "text/plain": [
              "\u001b[1m Trainable params: \u001b[0m\u001b[38;5;34m266,610\u001b[0m (1.02 MB)\n"
            ],
            "text/html": [
              "<pre style=\"white-space:pre;overflow-x:auto;line-height:normal;font-family:Menlo,'DejaVu Sans Mono',consolas,'Courier New',monospace\"><span style=\"font-weight: bold\"> Trainable params: </span><span style=\"color: #00af00; text-decoration-color: #00af00\">266,610</span> (1.02 MB)\n",
              "</pre>\n"
            ]
          },
          "metadata": {}
        },
        {
          "output_type": "display_data",
          "data": {
            "text/plain": [
              "\u001b[1m Non-trainable params: \u001b[0m\u001b[38;5;34m0\u001b[0m (0.00 B)\n"
            ],
            "text/html": [
              "<pre style=\"white-space:pre;overflow-x:auto;line-height:normal;font-family:Menlo,'DejaVu Sans Mono',consolas,'Courier New',monospace\"><span style=\"font-weight: bold\"> Non-trainable params: </span><span style=\"color: #00af00; text-decoration-color: #00af00\">0</span> (0.00 B)\n",
              "</pre>\n"
            ]
          },
          "metadata": {}
        }
      ]
    },
    {
      "cell_type": "markdown",
      "source": [
        "Dense layers have a lor of parameters. The first dense layer has 784*300 connected weight + 300 additional bias weight"
      ],
      "metadata": {
        "id": "w2xitNKDK-Af"
      }
    },
    {
      "cell_type": "code",
      "source": [
        "model.layers #getting model's list of layers"
      ],
      "metadata": {
        "colab": {
          "base_uri": "https://localhost:8080/"
        },
        "id": "sJcNohWDILr4",
        "outputId": "97a215d9-199a-4ce8-b9a6-84e9473e6be0"
      },
      "execution_count": 10,
      "outputs": [
        {
          "output_type": "execute_result",
          "data": {
            "text/plain": [
              "[<Flatten name=flatten, built=True>,\n",
              " <Dense name=dense, built=True>,\n",
              " <Dense name=dense_1, built=True>,\n",
              " <Dense name=dense_2, built=True>]"
            ]
          },
          "metadata": {},
          "execution_count": 10
        }
      ]
    },
    {
      "cell_type": "markdown",
      "source": [
        "All the parameters of a layer can be accessedusing get_weights() ans set_weights() methods"
      ],
      "metadata": {
        "id": "Jt7mxgYRxbfa"
      }
    },
    {
      "cell_type": "code",
      "source": [
        "weights, biases = model.layers[3].get_weights()"
      ],
      "metadata": {
        "id": "njup6-GBK7FB"
      },
      "execution_count": 22,
      "outputs": []
    },
    {
      "cell_type": "code",
      "source": [
        "weights"
      ],
      "metadata": {
        "colab": {
          "base_uri": "https://localhost:8080/"
        },
        "id": "pxI9rYuXyuJj",
        "outputId": "4b8ddd7b-c859-4e4c-8c88-3dbaf9a311bb"
      },
      "execution_count": 23,
      "outputs": [
        {
          "output_type": "execute_result",
          "data": {
            "text/plain": [
              "array([[-1.99985340e-01, -8.92712027e-02, -1.26822710e-01,\n",
              "         2.01785564e-01,  1.91979915e-01,  6.25739098e-02,\n",
              "        -2.02614829e-01, -5.66946715e-02,  1.74101800e-01,\n",
              "        -1.35119975e-01],\n",
              "       [ 2.04968750e-02, -2.08225965e-01, -1.28057912e-01,\n",
              "         1.81017578e-01, -1.37022376e-01, -1.71493500e-01,\n",
              "         7.36117363e-04, -5.30291349e-02, -2.16426119e-01,\n",
              "         1.32178426e-01],\n",
              "       [-9.68100727e-02,  2.06224322e-02,  1.34900570e-01,\n",
              "         1.73782110e-01, -1.07666790e-01,  1.90217882e-01,\n",
              "         1.46290332e-01,  1.43327087e-01,  7.45889843e-02,\n",
              "         2.05336362e-01],\n",
              "       [ 8.19788575e-02,  1.89909577e-01, -1.73492178e-01,\n",
              "        -2.02664286e-01, -1.20577686e-01, -1.25862852e-01,\n",
              "        -6.61608279e-02, -7.88139105e-02, -2.10167348e-01,\n",
              "        -8.44805092e-02],\n",
              "       [ 1.33482963e-01, -2.31793821e-02,  1.48396373e-01,\n",
              "         1.14170790e-01,  1.80517703e-01,  2.05126733e-01,\n",
              "        -1.99554026e-01, -1.63416475e-01, -2.08061337e-02,\n",
              "        -6.90191239e-02],\n",
              "       [-1.18941560e-01,  4.68058884e-02, -3.42915058e-02,\n",
              "        -6.43395036e-02, -3.67584676e-02,  6.11106455e-02,\n",
              "        -1.97767049e-01,  1.26673549e-01,  1.20313406e-01,\n",
              "         2.16346979e-02],\n",
              "       [ 8.75134170e-02,  1.79353356e-03,  2.00444549e-01,\n",
              "         2.23363489e-01, -1.01238176e-01, -1.15542643e-01,\n",
              "        -1.13171510e-01, -1.81301266e-01, -1.10676885e-02,\n",
              "         9.67041552e-02],\n",
              "       [ 3.60251963e-02,  1.49231493e-01,  1.38120323e-01,\n",
              "         2.13768721e-01, -1.66027308e-01, -1.03728086e-01,\n",
              "         2.30845302e-01,  4.26696241e-03, -2.35368013e-02,\n",
              "        -2.32983500e-01],\n",
              "       [-4.74582613e-02,  1.63590074e-01, -1.09947883e-01,\n",
              "        -1.49904534e-01, -1.81927592e-01,  2.47965157e-02,\n",
              "        -5.31084836e-02, -1.74347624e-01,  1.55889243e-01,\n",
              "         1.26105726e-01],\n",
              "       [ 1.14531219e-02, -1.33482069e-01, -6.32870495e-02,\n",
              "        -1.28067717e-01,  1.14707410e-01, -2.02096432e-01,\n",
              "         7.96503723e-02,  1.02872223e-01,  1.92717314e-02,\n",
              "        -3.15449685e-02],\n",
              "       [-1.00138932e-02, -4.92480099e-02, -7.53363073e-02,\n",
              "        -1.75227404e-01, -4.78856266e-02, -8.23867321e-02,\n",
              "         1.79031879e-01, -1.46522760e-01, -1.68629795e-01,\n",
              "        -7.34163672e-02],\n",
              "       [ 3.58183086e-02,  9.81445611e-02,  9.21559036e-02,\n",
              "        -1.89820230e-02,  7.97213614e-02, -1.14309661e-01,\n",
              "        -1.69642389e-01, -2.14667112e-01,  7.14661479e-02,\n",
              "        -1.26564056e-01],\n",
              "       [-1.25831366e-03,  1.06342763e-01, -1.42725542e-01,\n",
              "        -2.27200091e-01,  1.09739602e-03,  2.31936723e-01,\n",
              "        -1.28012747e-01, -1.21755600e-02,  1.53851599e-01,\n",
              "         1.27988249e-01],\n",
              "       [ 1.08213723e-03, -1.07395649e-03,  2.06293166e-03,\n",
              "        -1.41979009e-01,  4.57684100e-02,  7.74165988e-03,\n",
              "         5.17068803e-03, -8.06355029e-02, -7.87862390e-02,\n",
              "        -2.21614987e-02],\n",
              "       [ 2.16015011e-01,  1.43089145e-01,  2.00210750e-01,\n",
              "        -3.44464183e-03, -1.92452312e-01,  7.72348046e-02,\n",
              "         2.23131418e-01,  1.82334512e-01,  1.69384688e-01,\n",
              "         1.52572662e-01],\n",
              "       [ 1.80816829e-01, -1.12909637e-01, -1.50206834e-01,\n",
              "         1.90887243e-01, -1.85928643e-02, -8.10447186e-02,\n",
              "         2.14039773e-01,  9.86005068e-02,  4.40844595e-02,\n",
              "        -9.46256518e-02],\n",
              "       [ 1.75481707e-01, -1.63016319e-02,  2.20836222e-01,\n",
              "         1.45042598e-01,  1.17215961e-01, -1.83495879e-03,\n",
              "         1.22275054e-02,  2.72475481e-02,  1.37630463e-01,\n",
              "        -2.24888697e-01],\n",
              "       [-1.66999757e-01, -1.44601882e-01, -1.22668289e-01,\n",
              "         1.10322833e-02,  1.49791211e-01, -1.46906748e-01,\n",
              "        -1.33857429e-01,  1.34275049e-01,  2.09662795e-01,\n",
              "         5.47995269e-02],\n",
              "       [ 2.05583334e-01, -1.33740380e-01,  3.74755263e-03,\n",
              "        -1.20958164e-01,  1.04156673e-01,  2.76167095e-02,\n",
              "        -7.50533342e-02, -2.15839386e-01, -1.25413939e-01,\n",
              "         6.09013736e-02],\n",
              "       [-1.94809973e-01, -3.44964117e-02,  1.56407267e-01,\n",
              "        -4.41151410e-02, -1.62996680e-01,  1.57173663e-01,\n",
              "        -1.08551361e-01,  1.66023850e-01, -8.56797993e-02,\n",
              "         6.68747723e-02],\n",
              "       [ 1.91461176e-01, -3.52558196e-02,  1.73590779e-01,\n",
              "        -1.86651945e-04, -5.11327535e-02,  1.37755156e-01,\n",
              "         5.16500473e-02,  9.66740847e-02, -1.14673272e-01,\n",
              "         5.61994314e-02],\n",
              "       [ 2.20636398e-01, -1.22550629e-01, -7.46010244e-02,\n",
              "        -1.80670500e-01,  2.24190444e-01, -1.24956176e-01,\n",
              "         2.27436751e-01,  1.23104215e-01,  1.56085908e-01,\n",
              "         1.17668331e-01],\n",
              "       [-7.56293088e-02, -7.08545297e-02, -1.59431711e-01,\n",
              "         2.09610730e-01, -1.61242396e-01,  1.36457920e-01,\n",
              "        -1.88430637e-01, -1.00587964e-01,  6.63644671e-02,\n",
              "        -1.11026950e-01],\n",
              "       [ 7.29375482e-02,  1.55427068e-01,  1.93532616e-01,\n",
              "         2.03036964e-02,  1.13694102e-01, -9.39883590e-02,\n",
              "        -2.09050521e-01,  6.30413294e-02, -6.26460761e-02,\n",
              "        -8.96897763e-02],\n",
              "       [-3.00724804e-03, -1.69879943e-01,  1.41822755e-01,\n",
              "        -1.15633018e-01,  5.90898097e-02, -1.90585002e-01,\n",
              "        -1.38999492e-01,  5.97607195e-02, -2.07423806e-01,\n",
              "        -5.26895821e-02],\n",
              "       [-1.48842499e-01, -1.59418792e-01,  7.33322799e-02,\n",
              "         1.30366504e-01,  1.90179348e-01,  3.52585018e-02,\n",
              "         1.02057725e-01,  1.60466969e-01, -7.78203607e-02,\n",
              "        -7.09341615e-02],\n",
              "       [ 1.23949558e-01, -7.20427930e-02,  5.00314236e-02,\n",
              "         6.50031865e-02, -2.57647783e-02, -1.93682075e-01,\n",
              "        -7.39073306e-02, -2.28040814e-02, -4.28459644e-02,\n",
              "        -1.52990848e-01],\n",
              "       [ 1.04849696e-01, -2.06075013e-01, -2.07279027e-01,\n",
              "        -2.19590619e-01,  8.47354829e-02, -2.85286903e-02,\n",
              "         2.07916588e-01, -5.51369488e-02, -1.62635177e-01,\n",
              "         2.36415565e-02],\n",
              "       [ 1.81048185e-01, -9.32857543e-02, -8.03466886e-02,\n",
              "         1.68730915e-01,  2.30936825e-01,  9.02275443e-02,\n",
              "        -1.56827539e-01, -1.31860822e-01, -1.52252674e-01,\n",
              "        -1.07727766e-01],\n",
              "       [-1.92651153e-02,  3.00284028e-02, -5.70116788e-02,\n",
              "         1.27121180e-01,  3.22812498e-02,  1.26872540e-01,\n",
              "         1.05363488e-01, -1.51389867e-01,  1.33100182e-01,\n",
              "         1.64530218e-01],\n",
              "       [-1.45896778e-01, -1.10870369e-01,  2.21551269e-01,\n",
              "        -1.94684118e-02, -4.72478569e-03, -1.93251923e-01,\n",
              "         1.47707731e-01,  1.81148261e-01,  9.34841633e-02,\n",
              "        -7.41268247e-02],\n",
              "       [ 9.35066044e-02,  1.10521525e-01,  1.20535880e-01,\n",
              "        -2.21361607e-01, -3.72289866e-02, -1.67847753e-01,\n",
              "        -1.78503394e-02,  1.72174513e-01,  1.09221995e-01,\n",
              "        -1.03139460e-01],\n",
              "       [ 7.62489438e-02,  1.29266441e-01, -7.71589130e-02,\n",
              "        -2.18574181e-01, -8.65227133e-02,  1.49063736e-01,\n",
              "         1.38652921e-02, -1.91009521e-01, -1.67781815e-01,\n",
              "         1.18409336e-01],\n",
              "       [ 2.11805850e-01, -8.38687718e-02,  1.76834136e-01,\n",
              "        -1.89216718e-01, -1.58364505e-01, -2.25091338e-01,\n",
              "        -4.40161377e-02,  9.31842625e-03, -8.30354840e-02,\n",
              "        -4.56308126e-02],\n",
              "       [-1.12859741e-01, -1.30200982e-01,  8.27558339e-02,\n",
              "        -1.63337618e-01, -2.32599467e-01,  1.11262143e-01,\n",
              "        -8.87794793e-02, -1.21938735e-01, -2.20789790e-01,\n",
              "         1.42029345e-01],\n",
              "       [-1.75705940e-01, -1.72153398e-01,  7.22581148e-03,\n",
              "        -1.64000958e-01,  1.91557437e-01, -3.02009583e-02,\n",
              "        -8.50662589e-03, -2.17268601e-01, -4.22139764e-02,\n",
              "         2.13512093e-01],\n",
              "       [-5.42937517e-02,  3.07949185e-02, -1.20040014e-01,\n",
              "        -9.81480777e-02, -1.81209832e-01, -1.58533901e-02,\n",
              "        -1.08561218e-01, -6.68816864e-02,  1.98476225e-01,\n",
              "        -7.22684264e-02],\n",
              "       [ 2.40136087e-02,  2.04538405e-02, -1.51373446e-01,\n",
              "        -7.61459917e-02, -9.73327607e-02, -1.80488750e-01,\n",
              "        -5.66338152e-02, -1.43139422e-01,  2.07635224e-01,\n",
              "         1.98553562e-01],\n",
              "       [ 3.62421572e-03, -1.94231212e-01, -1.28512010e-01,\n",
              "         1.12831026e-01,  1.33372933e-01, -1.70532316e-01,\n",
              "        -4.70602512e-02, -2.05504254e-01, -1.12355150e-01,\n",
              "         1.13291055e-01],\n",
              "       [ 6.28862977e-02, -3.66168171e-02,  2.02644289e-01,\n",
              "         6.92279637e-03,  1.49565637e-01, -1.93682238e-01,\n",
              "        -1.80911377e-01,  2.30345488e-01,  6.78127706e-02,\n",
              "         2.17508048e-01],\n",
              "       [-3.58388126e-02,  6.96220994e-03,  1.74938023e-01,\n",
              "         3.95953953e-02, -1.17236838e-01, -1.15151919e-01,\n",
              "        -5.79877943e-02,  2.10673660e-01,  5.44894040e-02,\n",
              "         4.55059111e-02],\n",
              "       [ 1.43304467e-01, -1.80328041e-01, -7.25536346e-02,\n",
              "        -2.71778852e-02,  1.19562984e-01,  1.49883658e-01,\n",
              "         3.96607518e-02, -2.69272625e-02,  5.78909516e-02,\n",
              "        -1.60059199e-01],\n",
              "       [-1.82846010e-01,  2.10069299e-01,  7.12489784e-02,\n",
              "        -2.21652761e-01, -8.70792717e-02,  2.10527062e-01,\n",
              "        -1.56661272e-02, -2.17448846e-01, -9.15758014e-02,\n",
              "         1.37080997e-02],\n",
              "       [-1.29848391e-01, -3.58651578e-03, -6.18671924e-02,\n",
              "        -1.78414121e-01,  1.43887252e-01,  1.04921013e-02,\n",
              "        -1.49875879e-03, -1.19361408e-01,  6.38341308e-02,\n",
              "        -1.53321937e-01],\n",
              "       [ 9.14118290e-02, -2.23125845e-01, -2.26171523e-01,\n",
              "        -9.96284485e-02, -1.01524279e-01,  1.13334000e-01,\n",
              "        -7.65758604e-02, -5.53092360e-02,  1.26526982e-01,\n",
              "        -1.55644238e-01],\n",
              "       [ 9.81070995e-02,  1.96003914e-01, -2.13944733e-01,\n",
              "         2.50751376e-02,  2.21180469e-01,  5.52607179e-02,\n",
              "         1.85271502e-02, -2.28414968e-01,  5.42491376e-02,\n",
              "         4.77916300e-02],\n",
              "       [-1.66948751e-01,  1.65941060e-01,  8.19337964e-02,\n",
              "         9.78175402e-02, -8.10331404e-02, -1.46447152e-01,\n",
              "         5.76166213e-02,  1.41375512e-01, -1.51773244e-01,\n",
              "         4.89898622e-02],\n",
              "       [ 1.60102904e-01,  5.86329401e-02, -1.61875620e-01,\n",
              "        -1.88404694e-01,  1.06443226e-01,  1.04237020e-01,\n",
              "         2.11621761e-01,  1.83937848e-01, -1.85130566e-01,\n",
              "         1.69744074e-01],\n",
              "       [ 1.35516256e-01, -1.76321357e-01,  7.88733363e-02,\n",
              "        -1.08006060e-01, -1.54294655e-01,  7.42037594e-03,\n",
              "        -2.79933214e-03,  3.45899165e-02,  6.00892901e-02,\n",
              "         1.55200154e-01],\n",
              "       [ 1.12477750e-01, -1.53498948e-01, -9.03056860e-02,\n",
              "        -1.26707390e-01, -2.25205645e-01, -1.18297875e-01,\n",
              "         8.47969949e-02,  1.11674666e-01,  2.27575332e-01,\n",
              "         9.52634215e-03],\n",
              "       [ 1.03022695e-01, -7.50712007e-02, -2.30162457e-01,\n",
              "        -7.87890255e-02,  2.31640548e-01,  7.07013011e-02,\n",
              "         5.81599474e-02,  4.23346758e-02,  1.71562672e-01,\n",
              "         1.66821450e-01],\n",
              "       [-1.95083037e-01,  5.05914688e-02, -2.11926356e-01,\n",
              "         2.22501755e-01, -5.17682582e-02,  2.35902071e-02,\n",
              "        -1.62293285e-01, -2.15442210e-01, -2.29711205e-01,\n",
              "        -1.45425051e-02],\n",
              "       [-4.07494605e-02, -2.26497546e-01,  2.76423991e-02,\n",
              "        -3.87164950e-02,  4.16271389e-02, -6.18636310e-02,\n",
              "        -7.71219879e-02,  2.14473605e-01, -5.87947369e-02,\n",
              "         1.28114372e-01],\n",
              "       [-1.90145895e-01,  8.13666880e-02, -1.63158432e-01,\n",
              "        -2.60561705e-03, -1.62179083e-01,  8.42240155e-02,\n",
              "         6.49849176e-02,  1.48047447e-01, -8.58977288e-02,\n",
              "        -1.96173638e-01],\n",
              "       [ 9.57139134e-02,  1.54430121e-02, -2.79057175e-02,\n",
              "        -2.23797932e-01, -1.13504879e-01,  1.96323663e-01,\n",
              "        -1.09425686e-01, -1.96068510e-01,  7.10836053e-02,\n",
              "        -1.41666681e-01],\n",
              "       [-1.33328110e-01, -1.98544607e-01,  2.25066394e-01,\n",
              "        -1.20649457e-01,  8.12344253e-02,  8.44601095e-02,\n",
              "         4.98653054e-02,  3.77069116e-02,  1.41528994e-02,\n",
              "        -1.01428628e-02],\n",
              "       [-2.25338846e-01,  9.33014452e-02,  1.49298608e-01,\n",
              "         3.88936698e-02, -1.87784389e-01,  1.28404707e-01,\n",
              "        -2.05095768e-01,  6.35997653e-02, -2.10998505e-02,\n",
              "        -1.33154660e-01],\n",
              "       [-2.05689907e-01,  2.83831358e-03, -1.83925867e-01,\n",
              "        -2.31789216e-01,  1.44411623e-01,  1.71001673e-01,\n",
              "         2.03201383e-01,  7.80744851e-02,  6.77815676e-02,\n",
              "         1.35738671e-01],\n",
              "       [-2.10313961e-01,  2.04416662e-01, -2.29869068e-01,\n",
              "         2.28167295e-01,  2.17552632e-01,  6.53000176e-03,\n",
              "         9.84768569e-03, -2.18479469e-01, -9.33007300e-02,\n",
              "        -6.09338433e-02],\n",
              "       [ 9.56644118e-02, -3.72137278e-02,  1.48657531e-01,\n",
              "        -1.60457820e-01,  4.89550233e-02, -1.09506816e-01,\n",
              "         1.10257298e-01, -1.08530477e-01,  1.48751676e-01,\n",
              "        -6.43911213e-02],\n",
              "       [ 1.30065203e-01, -1.50338024e-01,  1.55809045e-01,\n",
              "         1.97602570e-01, -1.68223098e-01, -6.30591959e-02,\n",
              "        -1.92707956e-01,  1.70368046e-01,  1.80998147e-01,\n",
              "        -1.89429700e-01],\n",
              "       [-2.01557487e-01, -2.16487199e-02,  2.07450420e-01,\n",
              "         1.82248861e-01, -1.84197649e-01,  2.21585393e-01,\n",
              "         1.49707258e-01,  1.77198470e-01, -2.12746277e-01,\n",
              "        -4.51982021e-04],\n",
              "       [ 1.03985041e-01,  2.25719362e-01,  1.51448667e-01,\n",
              "        -1.88848093e-01, -2.08584219e-02, -3.42249721e-02,\n",
              "         1.11340731e-01, -4.67625707e-02, -1.57100439e-01,\n",
              "        -4.58451360e-02],\n",
              "       [-1.91206425e-01,  7.27774799e-02,  6.01538420e-02,\n",
              "         1.64628893e-01, -4.33096886e-02,  8.98285508e-02,\n",
              "        -1.47231609e-01,  2.24495202e-01,  8.07443559e-02,\n",
              "         7.21441805e-02],\n",
              "       [-2.19587997e-01, -1.29962772e-01,  1.22445494e-01,\n",
              "        -5.26847988e-02,  4.07612026e-02,  1.14538580e-01,\n",
              "        -2.06724495e-01, -1.23401627e-01, -1.05087906e-01,\n",
              "        -1.26753598e-01],\n",
              "       [ 1.02767348e-03, -7.93139935e-02, -4.00024205e-02,\n",
              "         9.45184529e-02,  1.69894576e-01,  2.16734111e-01,\n",
              "        -1.38352334e-01,  9.46617723e-02, -6.78199381e-02,\n",
              "        -1.96132600e-01],\n",
              "       [-4.81708348e-02, -4.72449958e-02,  3.01402509e-02,\n",
              "         9.05560851e-02,  3.61247361e-02,  1.77953750e-01,\n",
              "         9.10726488e-02, -5.97269237e-02, -2.21698642e-01,\n",
              "         2.20753729e-01],\n",
              "       [ 1.39461696e-01,  8.17733705e-02,  1.50965184e-01,\n",
              "         9.36906934e-02, -2.27304041e-01, -1.64162219e-01,\n",
              "        -7.03022629e-02,  9.58558917e-03, -5.74374199e-02,\n",
              "         1.18042350e-01],\n",
              "       [ 2.04612792e-01, -3.68551314e-02,  1.14009410e-01,\n",
              "         2.32240468e-01,  1.42429799e-01, -1.14924788e-01,\n",
              "        -6.77858591e-02,  2.01917350e-01,  5.10291457e-02,\n",
              "         2.10934877e-01],\n",
              "       [ 5.24906218e-02,  8.94222856e-02, -6.83170110e-02,\n",
              "         5.44103384e-02,  1.35958731e-01, -1.48578450e-01,\n",
              "         1.39228076e-01, -1.80636257e-01,  1.83020979e-01,\n",
              "        -1.32363513e-01],\n",
              "       [ 1.60824567e-01,  1.27440453e-01,  8.37314129e-02,\n",
              "         7.47434497e-02,  1.60211653e-01,  1.59474581e-01,\n",
              "        -1.92013592e-01,  2.64771283e-03,  1.92937881e-01,\n",
              "        -2.29795679e-01],\n",
              "       [ 2.15790004e-01, -6.63179606e-02,  1.40632272e-01,\n",
              "         9.04832482e-02, -7.84444511e-02, -1.59263104e-01,\n",
              "         1.78315401e-01, -7.22048283e-02, -7.23716617e-02,\n",
              "         1.05376959e-01],\n",
              "       [-3.39667052e-02,  1.50370717e-01, -1.25569016e-01,\n",
              "         1.40111625e-01,  1.75200582e-01, -1.25510275e-01,\n",
              "         3.73087227e-02, -4.46841121e-03, -1.06688216e-01,\n",
              "        -4.20661867e-02],\n",
              "       [ 2.31856316e-01,  6.34975731e-02, -1.18203044e-01,\n",
              "         4.21416759e-03, -2.38711834e-02,  2.12642252e-02,\n",
              "         1.75791085e-02, -1.73333868e-01, -1.32047743e-01,\n",
              "        -1.51194423e-01],\n",
              "       [-5.30285239e-02, -2.29821235e-01,  7.96967149e-02,\n",
              "         1.69666439e-01, -3.51504087e-02,  1.13508940e-01,\n",
              "         1.41532600e-01, -9.73178446e-02, -1.65483415e-01,\n",
              "        -1.72935680e-01],\n",
              "       [-1.22676045e-02, -1.97676182e-01,  1.64610744e-01,\n",
              "        -6.62774742e-02,  7.57337213e-02,  8.13401639e-02,\n",
              "        -9.85813439e-02,  2.23113894e-02, -1.23126611e-01,\n",
              "        -8.14795494e-02],\n",
              "       [-7.59222060e-02,  6.79427385e-03, -2.12397203e-01,\n",
              "        -9.70933884e-02,  1.04470998e-01,  1.57695681e-01,\n",
              "         1.32796884e-01, -1.47669494e-01, -1.01656735e-01,\n",
              "         1.89861059e-01],\n",
              "       [ 6.21857643e-02,  6.35475218e-02, -7.65886605e-02,\n",
              "        -1.26266986e-01,  5.67010045e-02,  1.24888569e-01,\n",
              "        -1.33226156e-01,  4.76883352e-02, -5.06263822e-02,\n",
              "         7.40309358e-02],\n",
              "       [ 2.27166712e-02, -2.01222822e-01, -8.33541155e-03,\n",
              "        -7.61344135e-02, -1.03903085e-01, -2.05332309e-01,\n",
              "        -1.66836888e-01,  1.34528190e-01, -1.55805051e-01,\n",
              "        -1.49187505e-01],\n",
              "       [ 8.27090740e-02, -2.28311792e-01,  1.49110287e-01,\n",
              "         1.09185249e-01, -2.06624702e-01,  1.13074332e-01,\n",
              "         5.00361025e-02,  1.90862358e-01, -2.32737213e-01,\n",
              "        -2.03285962e-02],\n",
              "       [-3.21069062e-02, -9.02623534e-02, -1.10063419e-01,\n",
              "        -2.74213850e-02, -2.30780259e-01,  2.04660118e-01,\n",
              "        -1.49480507e-01, -2.19228566e-01, -1.60523266e-01,\n",
              "        -1.94547877e-01],\n",
              "       [-5.98134547e-02,  1.97718889e-01, -5.96045852e-02,\n",
              "         7.52837360e-02, -1.20375276e-01, -1.60893202e-01,\n",
              "         1.60952300e-01, -6.76790029e-02,  1.08478069e-01,\n",
              "         1.40201122e-01],\n",
              "       [ 2.14948058e-02,  6.46320581e-02,  9.06034112e-02,\n",
              "        -2.33359039e-02,  1.74872935e-01,  1.43989623e-02,\n",
              "        -9.34009254e-03,  1.65829092e-01, -2.42266059e-02,\n",
              "         2.32619047e-02],\n",
              "       [ 1.17431283e-02,  1.17195129e-01,  1.56785995e-02,\n",
              "        -1.71061307e-02,  2.32358187e-01,  2.04851627e-02,\n",
              "         9.52853262e-02,  1.71436548e-01,  1.36400163e-01,\n",
              "         2.36483812e-02],\n",
              "       [ 4.18680012e-02, -1.68104947e-01,  2.09342182e-01,\n",
              "         1.67445481e-01, -1.35280013e-01, -2.24317849e-01,\n",
              "         1.76227689e-02, -1.05782494e-01, -2.20716685e-01,\n",
              "         9.85337198e-02],\n",
              "       [-1.17852077e-01,  3.98641527e-02,  3.65375280e-02,\n",
              "        -6.99757487e-02, -1.32914826e-01,  1.00000143e-01,\n",
              "        -1.59438103e-01,  2.28927195e-01, -1.04885995e-01,\n",
              "        -1.68547511e-01],\n",
              "       [ 5.57509065e-02,  2.01776654e-01, -1.19218677e-02,\n",
              "        -2.19974488e-01,  2.16330290e-01, -4.09121662e-02,\n",
              "         3.64431739e-03,  4.12468612e-02, -8.67166072e-02,\n",
              "         2.22615749e-01],\n",
              "       [ 1.02945417e-01,  1.54113024e-01,  9.93700325e-03,\n",
              "        -1.23611160e-01,  8.21264684e-02,  1.34252757e-01,\n",
              "        -1.38409361e-01, -4.90868092e-02,  2.06511945e-01,\n",
              "         6.98787570e-02],\n",
              "       [ 4.20191884e-03, -6.45511448e-02, -6.60140961e-02,\n",
              "        -7.56631047e-02, -1.26947939e-01, -1.52358964e-01,\n",
              "         2.00120866e-01,  1.54284239e-02, -3.30324173e-02,\n",
              "         1.59668535e-01],\n",
              "       [ 3.04212272e-02,  1.35394663e-01,  2.16091752e-01,\n",
              "         1.08807832e-01, -7.08128810e-02,  1.63167715e-02,\n",
              "        -8.72880220e-04, -5.25700450e-02, -9.29512680e-02,\n",
              "         1.69399679e-02],\n",
              "       [-2.02192754e-01, -8.04433972e-02, -2.08815306e-01,\n",
              "         1.81367755e-01, -5.94864786e-02, -1.17643438e-01,\n",
              "         1.22573018e-01, -6.19336814e-02, -2.02052101e-01,\n",
              "         3.81233692e-02],\n",
              "       [ 1.58338666e-01,  1.62588418e-01, -1.99102014e-02,\n",
              "         1.81922972e-01,  1.43477142e-01,  2.16515601e-01,\n",
              "         1.54771745e-01, -1.06933281e-01,  1.78977311e-01,\n",
              "         7.11793303e-02],\n",
              "       [ 1.90336257e-01,  2.23760843e-01, -2.14528009e-01,\n",
              "        -1.19563818e-01, -1.00533217e-02,  1.75054908e-01,\n",
              "         2.28317738e-01, -5.99061698e-02,  1.83004200e-01,\n",
              "         2.07450539e-01],\n",
              "       [-1.72401458e-01, -7.37833232e-02, -2.16801316e-01,\n",
              "         1.75050676e-01, -1.50369108e-02, -2.14043349e-01,\n",
              "         1.82336897e-01,  1.52929753e-01, -1.45486891e-01,\n",
              "        -5.29722869e-02],\n",
              "       [ 1.65952742e-01, -2.22003564e-01, -8.85835290e-02,\n",
              "        -1.84302449e-01, -1.56809837e-01, -3.47947627e-02,\n",
              "         1.36768401e-01, -1.77792817e-01,  1.06099486e-01,\n",
              "         5.05925715e-02],\n",
              "       [-6.59266710e-02,  1.32039338e-01, -2.00327456e-01,\n",
              "        -1.29041433e-01,  1.68965459e-02,  2.22769380e-03,\n",
              "        -1.35164469e-01,  9.58748162e-03,  1.19591266e-01,\n",
              "        -1.53629094e-01],\n",
              "       [-7.10637867e-03, -1.65778399e-03, -9.28875208e-02,\n",
              "        -2.25340515e-01, -1.20484419e-01, -1.73516065e-01,\n",
              "        -2.32125491e-01, -4.22494411e-02,  7.49483109e-02,\n",
              "        -2.06256807e-01],\n",
              "       [-6.57463819e-02,  1.19070411e-01,  2.10700214e-01,\n",
              "         2.27789491e-01,  2.16412812e-01, -1.99925646e-01,\n",
              "        -8.89710188e-02, -1.73988193e-01, -2.76730210e-02,\n",
              "        -8.97895545e-02],\n",
              "       [-1.72066152e-01, -9.95228142e-02, -5.24559468e-02,\n",
              "         1.80655569e-01,  9.91232991e-02, -1.21333182e-01,\n",
              "         1.15081698e-01,  7.17194378e-02, -1.77923054e-01,\n",
              "         4.70083058e-02],\n",
              "       [-1.57803327e-01,  1.40825927e-01, -6.12393171e-02,\n",
              "        -9.76415277e-02, -1.94399595e-01, -1.61340445e-01,\n",
              "         1.65173799e-01, -1.98746175e-01, -2.29875907e-01,\n",
              "        -7.19297528e-02]], dtype=float32)"
            ]
          },
          "metadata": {},
          "execution_count": 23
        }
      ]
    },
    {
      "cell_type": "code",
      "source": [
        "biases"
      ],
      "metadata": {
        "colab": {
          "base_uri": "https://localhost:8080/"
        },
        "id": "axfjZj8fzbWn",
        "outputId": "ec7b6d11-5166-456d-efb6-06cd143c1af4"
      },
      "execution_count": 24,
      "outputs": [
        {
          "output_type": "execute_result",
          "data": {
            "text/plain": [
              "array([0., 0., 0., 0., 0., 0., 0., 0., 0., 0.], dtype=float32)"
            ]
          },
          "metadata": {},
          "execution_count": 24
        }
      ]
    },
    {
      "cell_type": "markdown",
      "source": [
        "If you want to use another initiliazition method, you can set kernal_initializer(weights initializer) or bias_initializer"
      ],
      "metadata": {
        "id": "VnpTKRrVzvoo"
      }
    },
    {
      "cell_type": "markdown",
      "source": [
        "---\n",
        "The shape of weighgt matrix depends on the number of inputs. That is why it is recommended to specify input_shape when creating the first layer of sequential model.\n",
        "If you do not specify the input shape, Keras will simply weight until it knows the input shape before it builds the model. This will happen when you feed the data or when you call its build() method\n",
        "\n",
        "---"
      ],
      "metadata": {
        "id": "PlwWGBnJ0wUH"
      }
    },
    {
      "cell_type": "markdown",
      "source": [
        "After the model is created you must call its compile() function to specify the loss function and the optimizer to use."
      ],
      "metadata": {
        "id": "O3Wxcy3y1Wat"
      }
    },
    {
      "cell_type": "code",
      "source": [
        "model.compile(loss = \"sparse_categorical_crossentropy\", optimizer = \"sgd\",metrics = [\"accuracy\"])"
      ],
      "metadata": {
        "id": "lHq2IU1Dzcjm"
      },
      "execution_count": 25,
      "outputs": []
    },
    {
      "cell_type": "markdown",
      "source": [
        "Breakdown of each part:\n",
        "1. **Loss Function (`loss = \"sparse_categorical_crossentropy\"`):**  \n",
        "   The loss function is essentially a measure of how far off your model's predictions are from the actual labels. In this case, `\"sparse_categorical_crossentropy\"` is used, which is particularly suited for multi-class classification problems where the target labels are provided as integers (for example, 0, 1, 2, ...). Unlike the usual categorical crossentropy (which requires one-hot encoded labels), the \"sparse\" version saves memory and simplifies data preparation because it deals directly with integer labels.\n",
        "\n",
        "2. **Optimizer (`optimizer = \"sgd\"`):**  \n",
        "   The optimizer is the algorithm that adjusts the weights of your model in order to minimize the loss function. Here, `\"sgd\"` stands for Stochastic Gradient Descent. It works by iteratively updating the model's parameters in the direction that minimizes the loss based on the gradient computed from a subset (or batch) of the training data.\n",
        "\n",
        "3. **Metrics (`metrics = [\"accuracy\"]`):**  \n",
        "   Metrics are used to monitor the performance of your model during training and evaluation. By specifying `\"accuracy\"`, you're instructing the model to track the proportion of predictions that match the true labels. Accuracy is one of the most intuitive and common metrics for classification tasks.\n"
      ],
      "metadata": {
        "id": "I7UHPdb3LxWE"
      }
    },
    {
      "cell_type": "markdown",
      "source": [
        "# Training and evaluating the model"
      ],
      "metadata": {
        "id": "kLqF-we_O8Cg"
      }
    },
    {
      "cell_type": "code",
      "source": [
        "history = model.fit(X_train,y_train,epochs = 30,validation_data = (X_valid,y_valid))"
      ],
      "metadata": {
        "colab": {
          "base_uri": "https://localhost:8080/"
        },
        "id": "NGVpSaag1_af",
        "outputId": "2105f2ed-8be2-4707-ce8e-d6e96edfeb5a"
      },
      "execution_count": 28,
      "outputs": [
        {
          "output_type": "stream",
          "name": "stdout",
          "text": [
            "Epoch 1/30\n",
            "\u001b[1m1719/1719\u001b[0m \u001b[32m━━━━━━━━━━━━━━━━━━━━\u001b[0m\u001b[37m\u001b[0m \u001b[1m10s\u001b[0m 6ms/step - accuracy: 0.6870 - loss: 1.0102 - val_accuracy: 0.8366 - val_loss: 0.4959\n",
            "Epoch 2/30\n",
            "\u001b[1m1719/1719\u001b[0m \u001b[32m━━━━━━━━━━━━━━━━━━━━\u001b[0m\u001b[37m\u001b[0m \u001b[1m8s\u001b[0m 5ms/step - accuracy: 0.8268 - loss: 0.5002 - val_accuracy: 0.8450 - val_loss: 0.4504\n",
            "Epoch 3/30\n",
            "\u001b[1m1719/1719\u001b[0m \u001b[32m━━━━━━━━━━━━━━━━━━━━\u001b[0m\u001b[37m\u001b[0m \u001b[1m7s\u001b[0m 4ms/step - accuracy: 0.8453 - loss: 0.4476 - val_accuracy: 0.8540 - val_loss: 0.4334\n",
            "Epoch 4/30\n",
            "\u001b[1m1719/1719\u001b[0m \u001b[32m━━━━━━━━━━━━━━━━━━━━\u001b[0m\u001b[37m\u001b[0m \u001b[1m11s\u001b[0m 5ms/step - accuracy: 0.8531 - loss: 0.4223 - val_accuracy: 0.8504 - val_loss: 0.4373\n",
            "Epoch 5/30\n",
            "\u001b[1m1719/1719\u001b[0m \u001b[32m━━━━━━━━━━━━━━━━━━━━\u001b[0m\u001b[37m\u001b[0m \u001b[1m10s\u001b[0m 5ms/step - accuracy: 0.8583 - loss: 0.4021 - val_accuracy: 0.8686 - val_loss: 0.3814\n",
            "Epoch 6/30\n",
            "\u001b[1m1719/1719\u001b[0m \u001b[32m━━━━━━━━━━━━━━━━━━━━\u001b[0m\u001b[37m\u001b[0m \u001b[1m10s\u001b[0m 5ms/step - accuracy: 0.8652 - loss: 0.3823 - val_accuracy: 0.8730 - val_loss: 0.3684\n",
            "Epoch 7/30\n",
            "\u001b[1m1719/1719\u001b[0m \u001b[32m━━━━━━━━━━━━━━━━━━━━\u001b[0m\u001b[37m\u001b[0m \u001b[1m7s\u001b[0m 4ms/step - accuracy: 0.8691 - loss: 0.3686 - val_accuracy: 0.8718 - val_loss: 0.3653\n",
            "Epoch 8/30\n",
            "\u001b[1m1719/1719\u001b[0m \u001b[32m━━━━━━━━━━━━━━━━━━━━\u001b[0m\u001b[37m\u001b[0m \u001b[1m8s\u001b[0m 4ms/step - accuracy: 0.8766 - loss: 0.3518 - val_accuracy: 0.8510 - val_loss: 0.4134\n",
            "Epoch 9/30\n",
            "\u001b[1m1719/1719\u001b[0m \u001b[32m━━━━━━━━━━━━━━━━━━━━\u001b[0m\u001b[37m\u001b[0m \u001b[1m7s\u001b[0m 4ms/step - accuracy: 0.8792 - loss: 0.3409 - val_accuracy: 0.8822 - val_loss: 0.3428\n",
            "Epoch 10/30\n",
            "\u001b[1m1719/1719\u001b[0m \u001b[32m━━━━━━━━━━━━━━━━━━━━\u001b[0m\u001b[37m\u001b[0m \u001b[1m8s\u001b[0m 5ms/step - accuracy: 0.8805 - loss: 0.3372 - val_accuracy: 0.8768 - val_loss: 0.3370\n",
            "Epoch 11/30\n",
            "\u001b[1m1719/1719\u001b[0m \u001b[32m━━━━━━━━━━━━━━━━━━━━\u001b[0m\u001b[37m\u001b[0m \u001b[1m8s\u001b[0m 5ms/step - accuracy: 0.8837 - loss: 0.3276 - val_accuracy: 0.8810 - val_loss: 0.3403\n",
            "Epoch 12/30\n",
            "\u001b[1m1719/1719\u001b[0m \u001b[32m━━━━━━━━━━━━━━━━━━━━\u001b[0m\u001b[37m\u001b[0m \u001b[1m9s\u001b[0m 4ms/step - accuracy: 0.8862 - loss: 0.3188 - val_accuracy: 0.8778 - val_loss: 0.3374\n",
            "Epoch 13/30\n",
            "\u001b[1m1719/1719\u001b[0m \u001b[32m━━━━━━━━━━━━━━━━━━━━\u001b[0m\u001b[37m\u001b[0m \u001b[1m8s\u001b[0m 5ms/step - accuracy: 0.8890 - loss: 0.3112 - val_accuracy: 0.8880 - val_loss: 0.3234\n",
            "Epoch 14/30\n",
            "\u001b[1m1719/1719\u001b[0m \u001b[32m━━━━━━━━━━━━━━━━━━━━\u001b[0m\u001b[37m\u001b[0m \u001b[1m8s\u001b[0m 5ms/step - accuracy: 0.8918 - loss: 0.3008 - val_accuracy: 0.8860 - val_loss: 0.3207\n",
            "Epoch 15/30\n",
            "\u001b[1m1719/1719\u001b[0m \u001b[32m━━━━━━━━━━━━━━━━━━━━\u001b[0m\u001b[37m\u001b[0m \u001b[1m9s\u001b[0m 4ms/step - accuracy: 0.8924 - loss: 0.3012 - val_accuracy: 0.8888 - val_loss: 0.3224\n",
            "Epoch 16/30\n",
            "\u001b[1m1719/1719\u001b[0m \u001b[32m━━━━━━━━━━━━━━━━━━━━\u001b[0m\u001b[37m\u001b[0m \u001b[1m8s\u001b[0m 5ms/step - accuracy: 0.8945 - loss: 0.2900 - val_accuracy: 0.8864 - val_loss: 0.3161\n",
            "Epoch 17/30\n",
            "\u001b[1m1719/1719\u001b[0m \u001b[32m━━━━━━━━━━━━━━━━━━━━\u001b[0m\u001b[37m\u001b[0m \u001b[1m8s\u001b[0m 5ms/step - accuracy: 0.8980 - loss: 0.2845 - val_accuracy: 0.8904 - val_loss: 0.3150\n",
            "Epoch 18/30\n",
            "\u001b[1m1719/1719\u001b[0m \u001b[32m━━━━━━━━━━━━━━━━━━━━\u001b[0m\u001b[37m\u001b[0m \u001b[1m7s\u001b[0m 4ms/step - accuracy: 0.8989 - loss: 0.2832 - val_accuracy: 0.8858 - val_loss: 0.3132\n",
            "Epoch 19/30\n",
            "\u001b[1m1719/1719\u001b[0m \u001b[32m━━━━━━━━━━━━━━━━━━━━\u001b[0m\u001b[37m\u001b[0m \u001b[1m11s\u001b[0m 4ms/step - accuracy: 0.9015 - loss: 0.2731 - val_accuracy: 0.8890 - val_loss: 0.3080\n",
            "Epoch 20/30\n",
            "\u001b[1m1719/1719\u001b[0m \u001b[32m━━━━━━━━━━━━━━━━━━━━\u001b[0m\u001b[37m\u001b[0m \u001b[1m11s\u001b[0m 5ms/step - accuracy: 0.9046 - loss: 0.2646 - val_accuracy: 0.8802 - val_loss: 0.3178\n",
            "Epoch 21/30\n",
            "\u001b[1m1719/1719\u001b[0m \u001b[32m━━━━━━━━━━━━━━━━━━━━\u001b[0m\u001b[37m\u001b[0m \u001b[1m7s\u001b[0m 4ms/step - accuracy: 0.9057 - loss: 0.2638 - val_accuracy: 0.8774 - val_loss: 0.3301\n",
            "Epoch 22/30\n",
            "\u001b[1m1719/1719\u001b[0m \u001b[32m━━━━━━━━━━━━━━━━━━━━\u001b[0m\u001b[37m\u001b[0m \u001b[1m10s\u001b[0m 4ms/step - accuracy: 0.9071 - loss: 0.2553 - val_accuracy: 0.8872 - val_loss: 0.3077\n",
            "Epoch 23/30\n",
            "\u001b[1m1719/1719\u001b[0m \u001b[32m━━━━━━━━━━━━━━━━━━━━\u001b[0m\u001b[37m\u001b[0m \u001b[1m8s\u001b[0m 4ms/step - accuracy: 0.9063 - loss: 0.2605 - val_accuracy: 0.8934 - val_loss: 0.3012\n",
            "Epoch 24/30\n",
            "\u001b[1m1719/1719\u001b[0m \u001b[32m━━━━━━━━━━━━━━━━━━━━\u001b[0m\u001b[37m\u001b[0m \u001b[1m11s\u001b[0m 5ms/step - accuracy: 0.9102 - loss: 0.2507 - val_accuracy: 0.8794 - val_loss: 0.3320\n",
            "Epoch 25/30\n",
            "\u001b[1m1719/1719\u001b[0m \u001b[32m━━━━━━━━━━━━━━━━━━━━\u001b[0m\u001b[37m\u001b[0m \u001b[1m7s\u001b[0m 4ms/step - accuracy: 0.9097 - loss: 0.2483 - val_accuracy: 0.8934 - val_loss: 0.2945\n",
            "Epoch 26/30\n",
            "\u001b[1m1719/1719\u001b[0m \u001b[32m━━━━━━━━━━━━━━━━━━━━\u001b[0m\u001b[37m\u001b[0m \u001b[1m10s\u001b[0m 4ms/step - accuracy: 0.9138 - loss: 0.2412 - val_accuracy: 0.8932 - val_loss: 0.2982\n",
            "Epoch 27/30\n",
            "\u001b[1m1719/1719\u001b[0m \u001b[32m━━━━━━━━━━━━━━━━━━━━\u001b[0m\u001b[37m\u001b[0m \u001b[1m8s\u001b[0m 5ms/step - accuracy: 0.9144 - loss: 0.2404 - val_accuracy: 0.8932 - val_loss: 0.2963\n",
            "Epoch 28/30\n",
            "\u001b[1m1719/1719\u001b[0m \u001b[32m━━━━━━━━━━━━━━━━━━━━\u001b[0m\u001b[37m\u001b[0m \u001b[1m10s\u001b[0m 5ms/step - accuracy: 0.9175 - loss: 0.2316 - val_accuracy: 0.8942 - val_loss: 0.2944\n",
            "Epoch 29/30\n",
            "\u001b[1m1719/1719\u001b[0m \u001b[32m━━━━━━━━━━━━━━━━━━━━\u001b[0m\u001b[37m\u001b[0m \u001b[1m9s\u001b[0m 4ms/step - accuracy: 0.9191 - loss: 0.2295 - val_accuracy: 0.8866 - val_loss: 0.3112\n",
            "Epoch 30/30\n",
            "\u001b[1m1719/1719\u001b[0m \u001b[32m━━━━━━━━━━━━━━━━━━━━\u001b[0m\u001b[37m\u001b[0m \u001b[1m8s\u001b[0m 5ms/step - accuracy: 0.9174 - loss: 0.2290 - val_accuracy: 0.8962 - val_loss: 0.2883\n"
          ]
        }
      ]
    },
    {
      "cell_type": "markdown",
      "source": [
        "---\n",
        "If the class weight was skewed, with some class being overrepresented and underrepresentd, It would be useful to set class_weight argument when calling the fit function, which would give larger weight to underrepresented classes and lower weight to overrepresented classes\n",
        "\n",
        "---"
      ],
      "metadata": {
        "id": "6P-EwvHhT3Yl"
      }
    },
    {
      "cell_type": "code",
      "source": [
        "history.params"
      ],
      "metadata": {
        "colab": {
          "base_uri": "https://localhost:8080/"
        },
        "id": "bGoI-dY6P54B",
        "outputId": "6db90153-f163-42e5-fe23-7991b5a70cc7"
      },
      "execution_count": 30,
      "outputs": [
        {
          "output_type": "execute_result",
          "data": {
            "text/plain": [
              "{'verbose': 'auto', 'epochs': 30, 'steps': 1719}"
            ]
          },
          "metadata": {},
          "execution_count": 30
        }
      ]
    },
    {
      "cell_type": "code",
      "source": [
        "history.epoch"
      ],
      "metadata": {
        "colab": {
          "base_uri": "https://localhost:8080/"
        },
        "id": "L29NNkKKVS9C",
        "outputId": "78b9789c-85a3-4ff9-e6b5-4c45118c8fe0"
      },
      "execution_count": 32,
      "outputs": [
        {
          "output_type": "execute_result",
          "data": {
            "text/plain": [
              "[0,\n",
              " 1,\n",
              " 2,\n",
              " 3,\n",
              " 4,\n",
              " 5,\n",
              " 6,\n",
              " 7,\n",
              " 8,\n",
              " 9,\n",
              " 10,\n",
              " 11,\n",
              " 12,\n",
              " 13,\n",
              " 14,\n",
              " 15,\n",
              " 16,\n",
              " 17,\n",
              " 18,\n",
              " 19,\n",
              " 20,\n",
              " 21,\n",
              " 22,\n",
              " 23,\n",
              " 24,\n",
              " 25,\n",
              " 26,\n",
              " 27,\n",
              " 28,\n",
              " 29]"
            ]
          },
          "metadata": {},
          "execution_count": 32
        }
      ]
    },
    {
      "cell_type": "code",
      "source": [
        "history.history"
      ],
      "metadata": {
        "colab": {
          "base_uri": "https://localhost:8080/"
        },
        "id": "fpKj1xKpVcOD",
        "outputId": "daa3b4c5-3e9c-4cd1-96ee-c7163bc0d614"
      },
      "execution_count": 33,
      "outputs": [
        {
          "output_type": "execute_result",
          "data": {
            "text/plain": [
              "{'accuracy': [0.764018177986145,\n",
              "  0.8297091126441956,\n",
              "  0.8456727266311646,\n",
              "  0.8547090888023376,\n",
              "  0.8615636229515076,\n",
              "  0.8660727143287659,\n",
              "  0.8710545301437378,\n",
              "  0.875109076499939,\n",
              "  0.8770363926887512,\n",
              "  0.8817636370658875,\n",
              "  0.883545458316803,\n",
              "  0.8861818313598633,\n",
              "  0.8888727426528931,\n",
              "  0.8904363512992859,\n",
              "  0.8939090967178345,\n",
              "  0.8954363465309143,\n",
              "  0.897599995136261,\n",
              "  0.8998545408248901,\n",
              "  0.9019272923469543,\n",
              "  0.9036909341812134,\n",
              "  0.9050545692443848,\n",
              "  0.906000018119812,\n",
              "  0.9082000255584717,\n",
              "  0.9100363850593567,\n",
              "  0.9110363721847534,\n",
              "  0.9136000275611877,\n",
              "  0.9139817953109741,\n",
              "  0.9168000221252441,\n",
              "  0.9175999760627747,\n",
              "  0.9191272854804993],\n",
              " 'loss': [0.7242121696472168,\n",
              "  0.48869866132736206,\n",
              "  0.4418764114379883,\n",
              "  0.4153938889503479,\n",
              "  0.39426493644714355,\n",
              "  0.3794727325439453,\n",
              "  0.3644670844078064,\n",
              "  0.3527449667453766,\n",
              "  0.3440508544445038,\n",
              "  0.3332741856575012,\n",
              "  0.3263852596282959,\n",
              "  0.3174728751182556,\n",
              "  0.31029433012008667,\n",
              "  0.3035198748111725,\n",
              "  0.29675430059432983,\n",
              "  0.2900649607181549,\n",
              "  0.2849947214126587,\n",
              "  0.2790067791938782,\n",
              "  0.2738633453845978,\n",
              "  0.2686968445777893,\n",
              "  0.2640519440174103,\n",
              "  0.25913289189338684,\n",
              "  0.2557060718536377,\n",
              "  0.25032511353492737,\n",
              "  0.24639281630516052,\n",
              "  0.2419935166835785,\n",
              "  0.23906973004341125,\n",
              "  0.2335030436515808,\n",
              "  0.23025083541870117,\n",
              "  0.22712256014347076],\n",
              " 'val_accuracy': [0.8366000056266785,\n",
              "  0.8450000286102295,\n",
              "  0.8539999723434448,\n",
              "  0.8503999710083008,\n",
              "  0.8686000108718872,\n",
              "  0.8730000257492065,\n",
              "  0.8718000054359436,\n",
              "  0.8510000109672546,\n",
              "  0.8822000026702881,\n",
              "  0.876800000667572,\n",
              "  0.8809999823570251,\n",
              "  0.8777999877929688,\n",
              "  0.8880000114440918,\n",
              "  0.8859999775886536,\n",
              "  0.8888000249862671,\n",
              "  0.8863999843597412,\n",
              "  0.8903999924659729,\n",
              "  0.8858000040054321,\n",
              "  0.8889999985694885,\n",
              "  0.8802000284194946,\n",
              "  0.8773999810218811,\n",
              "  0.8871999979019165,\n",
              "  0.8934000134468079,\n",
              "  0.8794000148773193,\n",
              "  0.8934000134468079,\n",
              "  0.8931999802589417,\n",
              "  0.8931999802589417,\n",
              "  0.8942000269889832,\n",
              "  0.8866000175476074,\n",
              "  0.8962000012397766],\n",
              " 'val_loss': [0.495866984128952,\n",
              "  0.4503721594810486,\n",
              "  0.4333973526954651,\n",
              "  0.43726930022239685,\n",
              "  0.38142159581184387,\n",
              "  0.36841338872909546,\n",
              "  0.36532101035118103,\n",
              "  0.4134269058704376,\n",
              "  0.34283339977264404,\n",
              "  0.33695274591445923,\n",
              "  0.34026777744293213,\n",
              "  0.3373914361000061,\n",
              "  0.3234427869319916,\n",
              "  0.32073909044265747,\n",
              "  0.32243695855140686,\n",
              "  0.31609171628952026,\n",
              "  0.3150198459625244,\n",
              "  0.3131740987300873,\n",
              "  0.3080236613750458,\n",
              "  0.31779932975769043,\n",
              "  0.3301275968551636,\n",
              "  0.30765366554260254,\n",
              "  0.3012002110481262,\n",
              "  0.3319810926914215,\n",
              "  0.2944648563861847,\n",
              "  0.29818159341812134,\n",
              "  0.2962944209575653,\n",
              "  0.2944366931915283,\n",
              "  0.31120386719703674,\n",
              "  0.28827524185180664]}"
            ]
          },
          "metadata": {},
          "execution_count": 33
        }
      ]
    },
    {
      "cell_type": "code",
      "source": [
        "import pandas as pd\n",
        "import matplotlib.pyplot as plt"
      ],
      "metadata": {
        "id": "zrYMAwlyVgfS"
      },
      "execution_count": 34,
      "outputs": []
    },
    {
      "cell_type": "code",
      "source": [
        "pd.DataFrame(history.history).plot(figsize = (8,5))\n",
        "plt.grid(True)"
      ],
      "metadata": {
        "colab": {
          "base_uri": "https://localhost:8080/",
          "height": 445
        },
        "id": "NK3lnA5AVvag",
        "outputId": "ff37e1a7-3324-4a84-ed29-d8c28002f683"
      },
      "execution_count": 37,
      "outputs": [
        {
          "output_type": "display_data",
          "data": {
            "text/plain": [
              "<Figure size 800x500 with 1 Axes>"
            ],
            "image/png": "[encoded data removed]"
          },
          "metadata": {}
        }
      ]
    },
    {
      "cell_type": "code",
      "source": [
        "model.evaluate(X_test/255,y_test)"
      ],
      "metadata": {
        "colab": {
          "base_uri": "https://localhost:8080/"
        },
        "id": "_9G8v8rmV15j",
        "outputId": "474a693f-1bbf-481a-d976-6d7782ed03b2"
      },
      "execution_count": 41,
      "outputs": [
        {
          "output_type": "stream",
          "name": "stdout",
          "text": [
            "\u001b[1m313/313\u001b[0m \u001b[32m━━━━━━━━━━━━━━━━━━━━\u001b[0m\u001b[37m\u001b[0m \u001b[1m1s\u001b[0m 2ms/step - accuracy: 0.8858 - loss: 0.3292\n"
          ]
        },
        {
          "output_type": "execute_result",
          "data": {
            "text/plain": [
              "[0.3259923458099365, 0.8845000267028809]"
            ]
          },
          "metadata": {},
          "execution_count": 41
        }
      ]
    },
    {
      "cell_type": "code",
      "source": [],
      "metadata": {
        "id": "gkAsRyXrXuvO"
      },
      "execution_count": null,
      "outputs": []
    }
  ]
}